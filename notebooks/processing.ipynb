{
 "cells": [
  {
   "cell_type": "code",
   "execution_count": 1,
   "id": "ba480794-ff64-459b-a347-fc4b179a2c38",
   "metadata": {},
   "outputs": [],
   "source": [
    "import pandas"
   ]
  },
  {
   "cell_type": "code",
   "execution_count": 3,
   "id": "d1aa3306-6d44-48e7-89c5-e06981ee1bd8",
   "metadata": {},
   "outputs": [],
   "source": [
    "data_csv = pandas.read_csv(\"./my-dataset-train.csv\")"
   ]
  },
  {
   "cell_type": "code",
   "execution_count": 6,
   "id": "5d34b93a-2a57-4da9-908d-973fc61888df",
   "metadata": {},
   "outputs": [],
   "source": [
    "csv_to_json = data_csv.to_json(\"./my-dataset-train.json\", orient=\"records\")"
   ]
  },
  {
   "cell_type": "code",
   "execution_count": null,
   "id": "03af3ee0-7ba7-4d11-802b-ac64c6bfc30a",
   "metadata": {},
   "outputs": [],
   "source": []
  }
 ],
 "metadata": {
  "kernelspec": {
   "display_name": "Python 3",
   "language": "python",
   "name": "python3"
  },
  "language_info": {
   "codemirror_mode": {
    "name": "ipython",
    "version": 3
   },
   "file_extension": ".py",
   "mimetype": "text/x-python",
   "name": "python",
   "nbconvert_exporter": "python",
   "pygments_lexer": "ipython3",
   "version": "3.8.3"
  }
 },
 "nbformat": 4,
 "nbformat_minor": 5
}
